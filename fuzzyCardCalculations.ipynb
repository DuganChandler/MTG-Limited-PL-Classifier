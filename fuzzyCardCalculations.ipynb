{
 "cells": [
  {
   "cell_type": "code",
   "execution_count": null,
   "metadata": {},
   "outputs": [],
   "source": [
    "import numpy as np\n",
    "import skfuzzy as fuzz\n",
    "from skfuzzy import control as ctrl\n",
    "\n",
    "win_rate = ctrl.Antecedent(np.arange(0, 101, 1), 'win_rate')\n",
    "pick_rate = ctrl.Antecedent(np.arange(0, 101, 1), 'pick_rate')\n",
    "power_level  = ctrl.Consequent(np.arange(1, 6, 1), 'power_level')\n",
    "\n",
    "win_rate[\"L\"] = fuzz.trapmf(win_rate.universe, [0, 0, 40, 45])\n",
    "win_rate[\"ML\"] = fuzz.trimf(win_rate.universe, [40, 45, 50])\n",
    "win_rate[\"M\"] = fuzz.trimf(win_rate.universe, [45, 50, 55])\n",
    "win_rate[\"MH\"] = fuzz.trimf(win_rate.universe, [50, 55, 60])\n",
    "win_rate[\"H\"] = fuzz.trapmf(win_rate.universe, [55, 60, 100, 100]) \n",
    "\n",
    "pick_rate[\"L\"] = fuzz.trimf(pick_rate.universe, [0, 0, 25])\n",
    "pick_rate[\"ML\"] = fuzz.trimf(pick_rate.universe, [0, 25, 50])\n",
    "pick_rate[\"M\"] = fuzz.trimf(pick_rate.universe, [25, 50, 75])\n",
    "pick_rate[\"MH\"] = fuzz.trimf(pick_rate.universe, [50, 75, 100])\n",
    "pick_rate[\"H\"] = fuzz.trimf(pick_rate.universe, [75, 100, 100])\n",
    "\n",
    "power_level[\"L\"] = fuzz.trimf(power_level.universe, [1, 1, 2])\n",
    "power_level[\"ML\"] = fuzz.trimf(power_level.universe, [1, 2, 3])\n",
    "power_level[\"M\"] = fuzz.trimf(power_level.universe, [2, 3, 4])\n",
    "power_level[\"MH\"] = fuzz.trimf(power_level.universe, [3, 4, 5])\n",
    "power_level[\"H\"] = fuzz.trimf(power_level.universe, [4, 5, 5])"
   ]
  },
  {
   "cell_type": "code",
   "execution_count": null,
   "metadata": {},
   "outputs": [],
   "source": [
    "win_rate.view()\n",
    "pick_rate.view()\n",
    "power_level.view()"
   ]
  },
  {
   "cell_type": "code",
   "execution_count": null,
   "metadata": {},
   "outputs": [],
   "source": [
    "rule1 = ctrl.Rule(win_rate['L'] & pick_rate['L'], power_level['L'])\n",
    "rule2 = ctrl.Rule(win_rate['L'] & pick_rate['ML'], power_level['L'])\n",
    "rule3 = ctrl.Rule(win_rate['L'] & pick_rate['M'], power_level['L'])\n",
    "rule4 = ctrl.Rule(win_rate['L'] & pick_rate['MH'], power_level['L'])\n",
    "rule5 = ctrl.Rule(win_rate['L'] & pick_rate['H'], power_level['L'])\n",
    "\n",
    "rule6 = ctrl.Rule(win_rate['ML'] & pick_rate['L'], power_level['L'])\n",
    "rule7 = ctrl.Rule(win_rate['ML'] & pick_rate['ML'], power_level['ML'])\n",
    "rule8 = ctrl.Rule(win_rate['ML'] & pick_rate['M'], power_level['ML'])\n",
    "rule9 = ctrl.Rule(win_rate['ML'] & pick_rate['MH'], power_level['M'])\n",
    "rule10 = ctrl.Rule(win_rate['ML'] & pick_rate['H'], power_level['M'])\n",
    "\n",
    "rule11 = ctrl.Rule(win_rate['M'] & pick_rate['L'], power_level['ML'])\n",
    "rule12 = ctrl.Rule(win_rate['M'] & pick_rate['ML'], power_level['ML'])\n",
    "rule13 = ctrl.Rule(win_rate['M'] & pick_rate['M'], power_level['M'])\n",
    "rule14 = ctrl.Rule(win_rate['M'] & pick_rate['MH'], power_level['M'])\n",
    "rule15 = ctrl.Rule(win_rate['M'] & pick_rate['H'], power_level['MH'])\n",
    "\n",
    "rule16 = ctrl.Rule(win_rate['MH'] & pick_rate['L'], power_level['M'])\n",
    "rule17 = ctrl.Rule(win_rate['MH'] & pick_rate['ML'], power_level['M'])\n",
    "rule18 = ctrl.Rule(win_rate['MH'] & pick_rate['M'], power_level['MH'])\n",
    "rule19 = ctrl.Rule(win_rate['MH'] & pick_rate['MH'], power_level['MH'])\n",
    "rule20 = ctrl.Rule(win_rate['MH'] & pick_rate['H'], power_level['H'])\n",
    "\n",
    "rule21 = ctrl.Rule(win_rate['H'] & pick_rate['L'], power_level['ML'])\n",
    "rule22 = ctrl.Rule(win_rate['H'] & pick_rate['ML'], power_level['M'])\n",
    "rule23 = ctrl.Rule(win_rate['H'] & pick_rate['M'], power_level['MH'])\n",
    "rule24 = ctrl.Rule(win_rate['H'] & pick_rate['MH'], power_level['H'])\n",
    "rule25 = ctrl.Rule(win_rate['H'] & pick_rate['H'], power_level['H'])"
   ]
  },
  {
   "cell_type": "code",
   "execution_count": null,
   "metadata": {},
   "outputs": [],
   "source": [
    "power_level_ctrl = ctrl.ControlSystem([rule1, rule2, rule3, rule4, rule5, \n",
    "                                       rule6, rule7, rule8, rule9, rule10,\n",
    "                                       rule11, rule12, rule13, rule14, rule15, \n",
    "                                       rule16, rule17, rule18, rule19, rule20, \n",
    "                                       rule21, rule22, rule23, rule24, rule25])\n",
    "\n",
    "power_level_sim = ctrl.ControlSystemSimulation(power_level_ctrl)"
   ]
  },
  {
   "cell_type": "code",
   "execution_count": null,
   "metadata": {},
   "outputs": [],
   "source": [
    "power_level_sim.input['win_rate'] = 55.0\n",
    "power_level_sim.input['pick_rate'] = 35.0\n",
    "\n",
    "power_level_sim.compute()"
   ]
  },
  {
   "cell_type": "code",
   "execution_count": null,
   "metadata": {},
   "outputs": [],
   "source": [
    "print(power_level_sim.output['power_level'])\n",
    "power_level.view(sim=power_level_sim)"
   ]
  }
 ],
 "metadata": {
  "kernelspec": {
   "display_name": "venv",
   "language": "python",
   "name": "python3"
  },
  "language_info": {
   "name": "python",
   "version": "3.8.0"
  }
 },
 "nbformat": 4,
 "nbformat_minor": 2
}
